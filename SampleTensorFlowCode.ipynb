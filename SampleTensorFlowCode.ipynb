{
  "nbformat": 4,
  "nbformat_minor": 0,
  "metadata": {
    "colab": {
      "name": "SampleTensorFlowCode.ipynb",
      "provenance": [],
      "collapsed_sections": [],
      "authorship_tag": "ABX9TyMRX9GqvW5+46GMuThrsxAS"
    },
    "kernelspec": {
      "name": "python3",
      "display_name": "Python 3"
    },
    "language_info": {
      "name": "python"
    }
  },
  "cells": [
    {
      "cell_type": "markdown",
      "source": [
        "# Sample TensorFlow Code"
      ],
      "metadata": {
        "id": "sExqJGVAupWD"
      }
    },
    {
      "cell_type": "markdown",
      "source": [
        "1. This is a custom class that extends the `tf.keras.Model` base class,\n",
        "2. It defines four specific kinds of `tf.keras.layers`,\n",
        "3. It has a call function which will run an input through those layers (functions)."
      ],
      "metadata": {
        "id": "W4vdleCdt8pK"
      }
    },
    {
      "cell_type": "code",
      "execution_count": null,
      "metadata": {
        "id": "E4I2FaIOt0Wz"
      },
      "outputs": [],
      "source": [
        "# Load in the TensorFlow library\n",
        "import tensorflow as tf"
      ]
    },
    {
      "cell_type": "code",
      "source": [
        "# Define my custom neural network model\n",
        "\n",
        "class MyModel(tf.keras.Model):\n",
        "  def __init__(self):\n",
        "    super(MyModel, self).__init__()\n",
        "    # define neural network types\n",
        "    self.conv = tf.keras.layers.Conv2D(filters=32, kernel_size=3, activation=\"relu\")\n",
        "    self.flatten = tf.keras.layers.Flatten()\n",
        "    self.dense1 = tf.keras.layers.Dense(units=128, activation=\"relu\")\n",
        "    self.dense2 = tf.keras.layers.Dense(units=10, activation=\"linear\")\n",
        "\n",
        "  # run my Neural Network model by evaluating each layer on my input data\n",
        "  def call(self, x):\n",
        "    x = self.conv(x)\n",
        "    x = self.flatten(x)\n",
        "    x = self.dense1(x)\n",
        "    x = self.dense2(x)\n",
        "    return x"
      ],
      "metadata": {
        "id": "qg0vgF-Iu6cu"
      },
      "execution_count": null,
      "outputs": []
    },
    {
      "cell_type": "code",
      "source": [
        "# Create an instance of the model\n",
        "model = MyModel()"
      ],
      "metadata": {
        "id": "tcDOmzQqxjB5"
      },
      "execution_count": null,
      "outputs": []
    }
  ]
}