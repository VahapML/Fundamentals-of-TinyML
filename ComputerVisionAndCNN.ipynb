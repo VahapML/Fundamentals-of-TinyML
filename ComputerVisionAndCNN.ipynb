{
  "nbformat": 4,
  "nbformat_minor": 0,
  "metadata": {
    "colab": {
      "name": "ComputerVisionAndCNN.ipynb",
      "provenance": [],
      "authorship_tag": "ABX9TyN4yOcpWl26OfdnwaXA0qW/",
      "include_colab_link": true
    },
    "kernelspec": {
      "name": "python3",
      "display_name": "Python 3"
    },
    "language_info": {
      "name": "python"
    },
    "accelerator": "GPU"
  },
  "cells": [
    {
      "cell_type": "markdown",
      "metadata": {
        "id": "view-in-github",
        "colab_type": "text"
      },
      "source": [
        "<a href=\"https://colab.research.google.com/github/VahapML/Fundamentals-of-TinyML/blob/main/ComputerVisionAndCNN.ipynb\" target=\"_parent\"><img src=\"https://colab.research.google.com/assets/colab-badge.svg\" alt=\"Open In Colab\"/></a>"
      ]
    },
    {
      "cell_type": "code",
      "execution_count": 1,
      "metadata": {
        "id": "L-mGv98gsSPo"
      },
      "outputs": [],
      "source": [
        "import tensorflow as tf"
      ]
    },
    {
      "cell_type": "code",
      "source": [
        "# Load fashion mnist data, reshape and normalize to input CNN model\n",
        "\n",
        "mnist = tf.keras.datasets.fashion_mnist\n",
        "\n",
        "(training_images, training_labels), (val_images, val_labels) = mnist.load_data()\n",
        "\n",
        "training_images = training_images.reshape(60000, 28, 28, 1)\n",
        "training_images = training_images / 255.\n",
        "\n",
        "val_images = val_images.reshape(10000, 28, 28, 1)\n",
        "val_images = val_images / 255."
      ],
      "metadata": {
        "colab": {
          "base_uri": "https://localhost:8080/"
        },
        "id": "DsObjvdDsqsj",
        "outputId": "a04cfe65-ecf7-4b34-8b88-19a10b0cbe24"
      },
      "execution_count": 2,
      "outputs": [
        {
          "output_type": "stream",
          "name": "stdout",
          "text": [
            "Downloading data from https://storage.googleapis.com/tensorflow/tf-keras-datasets/train-labels-idx1-ubyte.gz\n",
            "32768/29515 [=================================] - 0s 0us/step\n",
            "40960/29515 [=========================================] - 0s 0us/step\n",
            "Downloading data from https://storage.googleapis.com/tensorflow/tf-keras-datasets/train-images-idx3-ubyte.gz\n",
            "26427392/26421880 [==============================] - 1s 0us/step\n",
            "26435584/26421880 [==============================] - 1s 0us/step\n",
            "Downloading data from https://storage.googleapis.com/tensorflow/tf-keras-datasets/t10k-labels-idx1-ubyte.gz\n",
            "16384/5148 [===============================================================================================] - 0s 0us/step\n",
            "Downloading data from https://storage.googleapis.com/tensorflow/tf-keras-datasets/t10k-images-idx3-ubyte.gz\n",
            "4423680/4422102 [==============================] - 0s 0us/step\n",
            "4431872/4422102 [==============================] - 0s 0us/step\n"
          ]
        }
      ]
    },
    {
      "cell_type": "code",
      "source": [
        "# create convolutional neural network\n",
        "\n",
        "model = tf.keras.models.Sequential([tf.keras.layers.Conv2D(filters=64, kernel_size=(3,3), activation=\"relu\", input_shape=(28, 28, 1)),\n",
        "                                    tf.keras.layers.MaxPooling2D(2, 2),\n",
        "                                    tf.keras.layers.Conv2D(filters=64, kernel_size=(3,3), activation=\"relu\"),\n",
        "                                    tf.keras.layers.MaxPooling2D(2, 2),\n",
        "                                    tf.keras.layers.Flatten(),\n",
        "                                    tf.keras.layers.Dense(units=20, activation=\"relu\"),\n",
        "                                    tf.keras.layers.Dense(units=10, activation=\"softmax\")])"
      ],
      "metadata": {
        "id": "i6fC4XjMttlI"
      },
      "execution_count": 3,
      "outputs": []
    },
    {
      "cell_type": "code",
      "source": [
        "model.compile(optimizer=\"adam\", loss=\"sparse_categorical_crossentropy\", metrics=[\"accuracy\"])\n",
        "model.summary()"
      ],
      "metadata": {
        "colab": {
          "base_uri": "https://localhost:8080/"
        },
        "id": "vizxgqSau3BO",
        "outputId": "0075e2d9-e356-4476-ca21-a1e3eb2c057e"
      },
      "execution_count": 4,
      "outputs": [
        {
          "output_type": "stream",
          "name": "stdout",
          "text": [
            "Model: \"sequential\"\n",
            "_________________________________________________________________\n",
            " Layer (type)                Output Shape              Param #   \n",
            "=================================================================\n",
            " conv2d (Conv2D)             (None, 26, 26, 64)        640       \n",
            "                                                                 \n",
            " max_pooling2d (MaxPooling2D  (None, 13, 13, 64)       0         \n",
            " )                                                               \n",
            "                                                                 \n",
            " conv2d_1 (Conv2D)           (None, 11, 11, 64)        36928     \n",
            "                                                                 \n",
            " max_pooling2d_1 (MaxPooling  (None, 5, 5, 64)         0         \n",
            " 2D)                                                             \n",
            "                                                                 \n",
            " flatten (Flatten)           (None, 1600)              0         \n",
            "                                                                 \n",
            " dense (Dense)               (None, 20)                32020     \n",
            "                                                                 \n",
            " dense_1 (Dense)             (None, 10)                210       \n",
            "                                                                 \n",
            "=================================================================\n",
            "Total params: 69,798\n",
            "Trainable params: 69,798\n",
            "Non-trainable params: 0\n",
            "_________________________________________________________________\n"
          ]
        }
      ]
    },
    {
      "cell_type": "code",
      "source": [
        "# train the network\n",
        "model.fit(training_images, training_labels, epochs=15, verbose=2, validation_data=(val_images, val_labels))"
      ],
      "metadata": {
        "colab": {
          "base_uri": "https://localhost:8080/"
        },
        "id": "zHJodWBsvOhX",
        "outputId": "cba51bae-40ff-4cb6-a0cf-aa38ec2eb281"
      },
      "execution_count": 5,
      "outputs": [
        {
          "output_type": "stream",
          "name": "stdout",
          "text": [
            "Epoch 1/15\n",
            "1875/1875 - 22s - loss: 0.5264 - accuracy: 0.8067 - val_loss: 0.4258 - val_accuracy: 0.8422 - 22s/epoch - 12ms/step\n",
            "Epoch 2/15\n",
            "1875/1875 - 9s - loss: 0.3402 - accuracy: 0.8775 - val_loss: 0.3286 - val_accuracy: 0.8831 - 9s/epoch - 5ms/step\n",
            "Epoch 3/15\n",
            "1875/1875 - 9s - loss: 0.2924 - accuracy: 0.8949 - val_loss: 0.3005 - val_accuracy: 0.8942 - 9s/epoch - 5ms/step\n",
            "Epoch 4/15\n",
            "1875/1875 - 11s - loss: 0.2619 - accuracy: 0.9045 - val_loss: 0.2861 - val_accuracy: 0.8965 - 11s/epoch - 6ms/step\n",
            "Epoch 5/15\n",
            "1875/1875 - 9s - loss: 0.2395 - accuracy: 0.9130 - val_loss: 0.2722 - val_accuracy: 0.9039 - 9s/epoch - 5ms/step\n",
            "Epoch 6/15\n",
            "1875/1875 - 9s - loss: 0.2198 - accuracy: 0.9198 - val_loss: 0.3037 - val_accuracy: 0.8899 - 9s/epoch - 5ms/step\n",
            "Epoch 7/15\n",
            "1875/1875 - 9s - loss: 0.2048 - accuracy: 0.9255 - val_loss: 0.2638 - val_accuracy: 0.9068 - 9s/epoch - 5ms/step\n",
            "Epoch 8/15\n",
            "1875/1875 - 10s - loss: 0.1905 - accuracy: 0.9293 - val_loss: 0.2963 - val_accuracy: 0.8956 - 10s/epoch - 5ms/step\n",
            "Epoch 9/15\n",
            "1875/1875 - 9s - loss: 0.1787 - accuracy: 0.9331 - val_loss: 0.2618 - val_accuracy: 0.9080 - 9s/epoch - 5ms/step\n",
            "Epoch 10/15\n",
            "1875/1875 - 9s - loss: 0.1671 - accuracy: 0.9387 - val_loss: 0.2650 - val_accuracy: 0.9052 - 9s/epoch - 5ms/step\n",
            "Epoch 11/15\n",
            "1875/1875 - 9s - loss: 0.1561 - accuracy: 0.9417 - val_loss: 0.2696 - val_accuracy: 0.9110 - 9s/epoch - 5ms/step\n",
            "Epoch 12/15\n",
            "1875/1875 - 9s - loss: 0.1479 - accuracy: 0.9450 - val_loss: 0.2819 - val_accuracy: 0.9086 - 9s/epoch - 5ms/step\n",
            "Epoch 13/15\n",
            "1875/1875 - 9s - loss: 0.1393 - accuracy: 0.9485 - val_loss: 0.2760 - val_accuracy: 0.9106 - 9s/epoch - 5ms/step\n",
            "Epoch 14/15\n",
            "1875/1875 - 9s - loss: 0.1300 - accuracy: 0.9518 - val_loss: 0.2801 - val_accuracy: 0.9109 - 9s/epoch - 5ms/step\n",
            "Epoch 15/15\n",
            "1875/1875 - 10s - loss: 0.1239 - accuracy: 0.9535 - val_loss: 0.2977 - val_accuracy: 0.9070 - 10s/epoch - 5ms/step\n"
          ]
        },
        {
          "output_type": "execute_result",
          "data": {
            "text/plain": [
              "<keras.callbacks.History at 0x7f0310640f50>"
            ]
          },
          "metadata": {},
          "execution_count": 5
        }
      ]
    },
    {
      "cell_type": "code",
      "source": [
        "print(val_labels[:100])"
      ],
      "metadata": {
        "colab": {
          "base_uri": "https://localhost:8080/"
        },
        "id": "V3Czz-9Yv9JT",
        "outputId": "0a769442-7a35-4911-c007-7d3d90aff975"
      },
      "execution_count": 6,
      "outputs": [
        {
          "output_type": "stream",
          "name": "stdout",
          "text": [
            "[9 2 1 1 6 1 4 6 5 7 4 5 7 3 4 1 2 4 8 0 2 5 7 9 1 4 6 0 9 3 8 8 3 3 8 0 7\n",
            " 5 7 9 6 1 3 7 6 7 2 1 2 2 4 4 5 8 2 2 8 4 8 0 7 7 8 5 1 1 2 3 9 8 7 0 2 6\n",
            " 2 3 1 2 8 4 1 8 5 9 5 0 3 2 0 6 5 3 6 7 1 8 0 1 4 2]\n"
          ]
        }
      ]
    },
    {
      "cell_type": "code",
      "source": [
        "# import pyplot to visualize data\n",
        "import matplotlib.pyplot as plt"
      ],
      "metadata": {
        "id": "BubJD0ATwMmH"
      },
      "execution_count": 7,
      "outputs": []
    },
    {
      "cell_type": "code",
      "source": [
        "# create a function to show an image\n",
        "\n",
        "def show_image(image_index):\n",
        "  plt.figure()\n",
        "  plt.imshow(val_images[image_index].reshape(28, 28))\n",
        "  plt.grid(False)\n",
        "  plt.show()"
      ],
      "metadata": {
        "id": "WYDl4M7fwXr1"
      },
      "execution_count": 8,
      "outputs": []
    },
    {
      "cell_type": "code",
      "source": [
        "# By scanning the list above I saw that the 0, 23 and 28 entries are all label 9 \n",
        "FIRST_IMAGE=0\n",
        "SECOND_IMAGE=23\n",
        "THIRD_IMAGE=28\n",
        "\n",
        "# For shoes (0, 23, 28), Convolution_Number=1 (i.e. the second filter) shows\n",
        "# the sole being filtered out very clearly\n",
        "\n",
        "CONVOLUTION_NUMBER = 10\n",
        "from tensorflow.keras import models\n",
        "layer_outputs = [layer.output for layer in model.layers]\n",
        "\n",
        "print(layer_outputs)"
      ],
      "metadata": {
        "colab": {
          "base_uri": "https://localhost:8080/"
        },
        "id": "3PJVhLpWxSou",
        "outputId": "883dfe6d-b426-4508-f499-6eb8a7700425"
      },
      "execution_count": 27,
      "outputs": [
        {
          "output_type": "stream",
          "name": "stdout",
          "text": [
            "[<KerasTensor: shape=(None, 26, 26, 64) dtype=float32 (created by layer 'conv2d')>, <KerasTensor: shape=(None, 13, 13, 64) dtype=float32 (created by layer 'max_pooling2d')>, <KerasTensor: shape=(None, 11, 11, 64) dtype=float32 (created by layer 'conv2d_1')>, <KerasTensor: shape=(None, 5, 5, 64) dtype=float32 (created by layer 'max_pooling2d_1')>, <KerasTensor: shape=(None, 1600) dtype=float32 (created by layer 'flatten')>, <KerasTensor: shape=(None, 20) dtype=float32 (created by layer 'dense')>, <KerasTensor: shape=(None, 10) dtype=float32 (created by layer 'dense_1')>]\n"
          ]
        }
      ]
    },
    {
      "cell_type": "code",
      "source": [
        "activation_model = tf.keras.models.Model(inputs = model.input, outputs = layer_outputs)\n",
        "print(activation_model)"
      ],
      "metadata": {
        "colab": {
          "base_uri": "https://localhost:8080/"
        },
        "id": "V3X1TckXyFjL",
        "outputId": "6e0ebf13-47f7-4ffa-e498-f8dc1e36da76"
      },
      "execution_count": 28,
      "outputs": [
        {
          "output_type": "stream",
          "name": "stdout",
          "text": [
            "<keras.engine.functional.Functional object at 0x7f022a333990>\n"
          ]
        }
      ]
    },
    {
      "cell_type": "code",
      "source": [
        "f, axarr = plt.subplots(3, 2)\n",
        "for x in range(0,2):\n",
        "  f1 = activation_model.predict(val_images[FIRST_IMAGE].reshape(1, 28, 28, 1))[x]\n",
        "  axarr[0,x].imshow(f1[0, : , :, CONVOLUTION_NUMBER], cmap='inferno')\n",
        "  axarr[0,x].grid(False)\n",
        "  f2 = activation_model.predict(val_images[SECOND_IMAGE].reshape(1, 28, 28, 1))[x]\n",
        "  axarr[1,x].imshow(f2[0, : , :, CONVOLUTION_NUMBER], cmap='inferno')\n",
        "  axarr[1,x].grid(False)\n",
        "  f3 = activation_model.predict(val_images[THIRD_IMAGE].reshape(1, 28, 28, 1))[x]\n",
        "  axarr[2,x].imshow(f3[0, : , :, CONVOLUTION_NUMBER], cmap='inferno')\n",
        "  axarr[2,x].grid(False)"
      ],
      "metadata": {
        "colab": {
          "base_uri": "https://localhost:8080/",
          "height": 268
        },
        "id": "-7RO4DMIyJo8",
        "outputId": "cbb4ca7c-7b6b-4a50-ba85-6868f6b36a60"
      },
      "execution_count": 29,
      "outputs": [
        {
          "output_type": "display_data",
          "data": {
            "image/png": "[encoded data removed]",
            "text/plain": [
              "<Figure size 432x288 with 6 Axes>"
            ]
          },
          "metadata": {
            "needs_background": "light"
          }
        }
      ]
    },
    {
      "cell_type": "code",
      "source": [
        "show_image(FIRST_IMAGE)"
      ],
      "metadata": {
        "colab": {
          "base_uri": "https://localhost:8080/",
          "height": 265
        },
        "id": "bhVXVM6txos4",
        "outputId": "c9ef64a4-1939-40f0-92cf-a90983fde39e"
      },
      "execution_count": 12,
      "outputs": [
        {
          "output_type": "display_data",
          "data": {
            "image/png": "[encoded data removed]",
            "text/plain": [
              "<Figure size 432x288 with 1 Axes>"
            ]
          },
          "metadata": {
            "needs_background": "light"
          }
        }
      ]
    },
    {
      "cell_type": "code",
      "source": [
        "show_image(SECOND_IMAGE)"
      ],
      "metadata": {
        "colab": {
          "base_uri": "https://localhost:8080/",
          "height": 265
        },
        "id": "xr-F1wPlxqVD",
        "outputId": "30863561-f978-42e3-9717-3b87b927141b"
      },
      "execution_count": 13,
      "outputs": [
        {
          "output_type": "display_data",
          "data": {
            "image/png": "[encoded data removed]",
            "text/plain": [
              "<Figure size 432x288 with 1 Axes>"
            ]
          },
          "metadata": {
            "needs_background": "light"
          }
        }
      ]
    },
    {
      "cell_type": "code",
      "source": [
        "show_image(THIRD_IMAGE)"
      ],
      "metadata": {
        "colab": {
          "base_uri": "https://localhost:8080/",
          "height": 265
        },
        "id": "518iYYc6xr1T",
        "outputId": "12064932-c4d6-4b5c-c2a8-4869a325cb30"
      },
      "execution_count": 14,
      "outputs": [
        {
          "output_type": "display_data",
          "data": {
            "image/png": "[encoded data removed]",
            "text/plain": [
              "<Figure size 432x288 with 1 Axes>"
            ]
          },
          "metadata": {
            "needs_background": "light"
          }
        }
      ]
    }
  ]
}