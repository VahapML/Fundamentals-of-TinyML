{
  "nbformat": 4,
  "nbformat_minor": 0,
  "metadata": {
    "colab": {
      "name": "ExploringRegressionAndLoss.ipynb",
      "provenance": [],
      "collapsed_sections": [],
      "authorship_tag": "ABX9TyMJTUkBeoE6zSU8eGLQ3tIP",
      "include_colab_link": true
    },
    "kernelspec": {
      "name": "python3",
      "display_name": "Python 3"
    },
    "language_info": {
      "name": "python"
    }
  },
  "cells": [
    {
      "cell_type": "markdown",
      "metadata": {
        "id": "view-in-github",
        "colab_type": "text"
      },
      "source": [
        "<a href=\"https://colab.research.google.com/github/VahapML/Fundamentals-of-TinyML/blob/main/ExploringRegressionAndLoss.ipynb\" target=\"_parent\"><img src=\"https://colab.research.google.com/assets/colab-badge.svg\" alt=\"Open In Colab\"/></a>"
      ]
    },
    {
      "cell_type": "code",
      "execution_count": 1,
      "metadata": {
        "id": "zlOF522siQy1"
      },
      "outputs": [],
      "source": [
        "import math"
      ]
    },
    {
      "cell_type": "code",
      "source": [
        "# Edit these parameters to try different loss measurements. \n",
        "# Rerun this cell when done\n",
        "# Your Y will be calculated as Y=wX+b, so if w=3, and b=-1, then Y=3x-1\n",
        "\n",
        "w = 2\n",
        "b = -1\n",
        "\n",
        "x = [-1, 0, 1, 2, 3, 4]\n",
        "y = [3, -1, 1, 3, 5, 7]\n",
        "\n",
        "myY = []\n",
        "\n",
        "for this_x in x:\n",
        "  this_y = (w * this_x) + b\n",
        "  myY.append(this_y)\n"
      ],
      "metadata": {
        "id": "fWxHzAvdigNN"
      },
      "execution_count": 2,
      "outputs": []
    },
    {
      "cell_type": "code",
      "source": [
        "print(\"Real Y is \" + str(y))\n",
        "print(\"My Y is   \" + str(myY))"
      ],
      "metadata": {
        "colab": {
          "base_uri": "https://localhost:8080/"
        },
        "id": "Fzn_o7ukjKpL",
        "outputId": "956d5e41-caa4-4e23-8c6a-a25fb90485b3"
      },
      "execution_count": 3,
      "outputs": [
        {
          "output_type": "stream",
          "name": "stdout",
          "text": [
            "Real Y is [3, -1, 1, 3, 5, 7]\n",
            "My Y is   [-3, -1, 1, 3, 5, 7]\n"
          ]
        }
      ]
    },
    {
      "cell_type": "code",
      "source": [
        "# let's calculate the loss\n",
        "total_square_error = 0\n",
        "for i in range(0, len(y)):\n",
        "  square_error = (y[i] - myY[i]) ** 2\n",
        "  total_square_error += square_error"
      ],
      "metadata": {
        "id": "qIHj82lujODN"
      },
      "execution_count": 4,
      "outputs": []
    },
    {
      "cell_type": "code",
      "source": [
        "print(\"My squarre root of total loss is: \" + str(math.sqrt(total_square_error)))"
      ],
      "metadata": {
        "colab": {
          "base_uri": "https://localhost:8080/"
        },
        "id": "mTEkUmA_jxb4",
        "outputId": "53c1ddbb-7c8a-44f9-c436-161d6754c5cf"
      },
      "execution_count": 5,
      "outputs": [
        {
          "output_type": "stream",
          "name": "stdout",
          "text": [
            "My squarre root of total loss is: 6.0\n"
          ]
        }
      ]
    }
  ]
}