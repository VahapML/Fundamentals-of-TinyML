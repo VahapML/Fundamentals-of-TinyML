{
  "nbformat": 4,
  "nbformat_minor": 0,
  "metadata": {
    "colab": {
      "name": "Assignment4.ipynb",
      "provenance": [],
      "collapsed_sections": [],
      "authorship_tag": "ABX9TyP7KnBOTee+kXy6rLaArTm8",
      "include_colab_link": true
    },
    "kernelspec": {
      "name": "python3",
      "display_name": "Python 3"
    },
    "language_info": {
      "name": "python"
    },
    "accelerator": "GPU"
  },
  "cells": [
    {
      "cell_type": "markdown",
      "metadata": {
        "id": "view-in-github",
        "colab_type": "text"
      },
      "source": [
        "<a href=\"https://colab.research.google.com/github/VahapML/Fundamentals-of-TinyML/blob/main/Assignment4.ipynb\" target=\"_parent\"><img src=\"https://colab.research.google.com/assets/colab-badge.svg\" alt=\"Open In Colab\"/></a>"
      ]
    },
    {
      "cell_type": "markdown",
      "source": [
        "# Bean Classifier"
      ],
      "metadata": {
        "id": "X2FwOw7ZI59-"
      }
    },
    {
      "cell_type": "code",
      "execution_count": 1,
      "metadata": {
        "colab": {
          "base_uri": "https://localhost:8080/"
        },
        "id": "YIqtHUWIIyzV",
        "outputId": "92fd4a65-fd02-464e-9f21-53abfb96b051"
      },
      "outputs": [
        {
          "output_type": "stream",
          "name": "stdout",
          "text": [
            "--2022-01-26 12:51:34--  https://storage.googleapis.com/ibeans/train.zip\n",
            "Resolving storage.googleapis.com (storage.googleapis.com)... 74.125.126.128, 74.125.132.128, 64.233.183.128, ...\n",
            "Connecting to storage.googleapis.com (storage.googleapis.com)|74.125.126.128|:443... connected.\n",
            "HTTP request sent, awaiting response... 200 OK\n",
            "Length: 143812152 (137M) [application/zip]\n",
            "Saving to: ‘/tmp/train.zip’\n",
            "\n",
            "/tmp/train.zip      100%[===================>] 137.15M   150MB/s    in 0.9s    \n",
            "\n",
            "2022-01-26 12:51:35 (150 MB/s) - ‘/tmp/train.zip’ saved [143812152/143812152]\n",
            "\n",
            "--2022-01-26 12:51:35--  https://storage.googleapis.com/ibeans/validation.zip\n",
            "Resolving storage.googleapis.com (storage.googleapis.com)... 64.233.182.128, 173.194.194.128, 142.250.152.128, ...\n",
            "Connecting to storage.googleapis.com (storage.googleapis.com)|64.233.182.128|:443... connected.\n",
            "HTTP request sent, awaiting response... 200 OK\n",
            "Length: 18504213 (18M) [application/zip]\n",
            "Saving to: ‘/tmp/validation.zip’\n",
            "\n",
            "/tmp/validation.zip 100%[===================>]  17.65M  --.-KB/s    in 0.1s    \n",
            "\n",
            "2022-01-26 12:51:35 (137 MB/s) - ‘/tmp/validation.zip’ saved [18504213/18504213]\n",
            "\n",
            "--2022-01-26 12:51:35--  https://storage.googleapis.com/ibeans/test.zip\n",
            "Resolving storage.googleapis.com (storage.googleapis.com)... 142.250.152.128, 173.194.192.128, 209.85.146.128, ...\n",
            "Connecting to storage.googleapis.com (storage.googleapis.com)|142.250.152.128|:443... connected.\n",
            "HTTP request sent, awaiting response... 200 OK\n",
            "Length: 17708541 (17M) [application/zip]\n",
            "Saving to: ‘/tmp/test.zip’\n",
            "\n",
            "/tmp/test.zip       100%[===================>]  16.89M  --.-KB/s    in 0.1s    \n",
            "\n",
            "2022-01-26 12:51:36 (120 MB/s) - ‘/tmp/test.zip’ saved [17708541/17708541]\n",
            "\n"
          ]
        }
      ],
      "source": [
        "# Do not change this code\n",
        "!wget --no-check-certificate \\\n",
        "    https://storage.googleapis.com/ibeans/train.zip \\\n",
        "    -O /tmp/train.zip\n",
        "\n",
        "!wget --no-check-certificate \\\n",
        "    https://storage.googleapis.com/ibeans/validation.zip \\\n",
        "    -O /tmp/validation.zip\n",
        "\n",
        "!wget --no-check-certificate \\\n",
        "    https://storage.googleapis.com/ibeans/test.zip \\\n",
        "    -O /tmp/test.zip"
      ]
    },
    {
      "cell_type": "code",
      "source": [
        "# Do not change this code\n",
        "import os\n",
        "import zipfile\n",
        "\n",
        "local_zip = '/tmp/train.zip'\n",
        "zip_ref = zipfile.ZipFile(local_zip, 'r')\n",
        "zip_ref.extractall('/tmp')\n",
        "local_zip = '/tmp/validation.zip'\n",
        "zip_ref = zipfile.ZipFile(local_zip, 'r')\n",
        "zip_ref.extractall('/tmp')\n",
        "local_zip = '/tmp/test.zip'\n",
        "zip_ref = zipfile.ZipFile(local_zip, 'r')\n",
        "zip_ref.extractall('/tmp/test')\n",
        "zip_ref.close()"
      ],
      "metadata": {
        "id": "O3YwqaMYI-ZU"
      },
      "execution_count": 2,
      "outputs": []
    },
    {
      "cell_type": "code",
      "source": [
        "from tensorflow.keras.preprocessing.image import ImageDataGenerator"
      ],
      "metadata": {
        "id": "Klv5psxWJBo3"
      },
      "execution_count": 3,
      "outputs": []
    },
    {
      "cell_type": "code",
      "source": [
        "# All images will be augmented with the full list of augmentation techniques below\n",
        "\n",
        "training_data_generator = ImageDataGenerator(rescale=1./255,\n",
        "                                             #rotation_range=35,\n",
        "                                             #height_shift_range=0.25,\n",
        "                                             #width_shift_range=0.25,\n",
        "                                             #shear_range=0.2,\n",
        "                                             #zoom_range=0.15,\n",
        "                                             #horizontal_flip=True,\n",
        "                                             #fill_mode=\"nearest\"\n",
        "                                             )\n",
        "\n",
        "\n",
        "validation_data_generator = ImageDataGenerator(rescale=1./255,\n",
        "                                               #rotation_range=35,\n",
        "                                               #height_shift_range=0.25,\n",
        "                                               #width_shift_range=0.25,\n",
        "                                               #shear_range=0.2,\n",
        "                                               #zoom_range=0.15,\n",
        "                                               #horizontal_flip=True,\n",
        "                                               #fill_mode=\"nearest\"\n",
        "                                               )\n"
      ],
      "metadata": {
        "id": "cP_TXFyJJGEB"
      },
      "execution_count": 4,
      "outputs": []
    },
    {
      "cell_type": "code",
      "source": [
        "# Create labelled data to train the network\n",
        "TRAIN_DIRECTORY_LOCATION = \"/tmp/train\" # YOUR CODE HERE #\n",
        "VAL_DIRECTORY_LOCATION = \"/tmp/validation\" # YOUR CODE HERE #\n",
        "TARGET_SIZE = (224, 224) # YOUR CODE HERE #\n",
        "CLASS_MODE = \"categorical\" # YOUR CODE HERE #\n",
        "\n",
        "\n",
        "train_generator = training_data_generator.flow_from_directory(\n",
        "    TRAIN_DIRECTORY_LOCATION,\n",
        "    target_size = TARGET_SIZE,  \n",
        "    batch_size = 128,\n",
        "    class_mode = CLASS_MODE\n",
        ")\n",
        "\n",
        "validation_generator = validation_data_generator.flow_from_directory(\n",
        "    VAL_DIRECTORY_LOCATION,\n",
        "    target_size=TARGET_SIZE,\n",
        "    batch_size=128,\n",
        "    class_mode=CLASS_MODE\n",
        ")"
      ],
      "metadata": {
        "colab": {
          "base_uri": "https://localhost:8080/"
        },
        "id": "CkWTUpGwMEtS",
        "outputId": "9617f54d-436d-415d-b217-bebb9aa8bcd7"
      },
      "execution_count": 5,
      "outputs": [
        {
          "output_type": "stream",
          "name": "stdout",
          "text": [
            "Found 1034 images belonging to 3 classes.\n",
            "Found 133 images belonging to 3 classes.\n"
          ]
        }
      ]
    },
    {
      "cell_type": "code",
      "source": [
        "import tensorflow as tf"
      ],
      "metadata": {
        "id": "I0eN4mRGMs8R"
      },
      "execution_count": 6,
      "outputs": []
    },
    {
      "cell_type": "code",
      "source": [
        "model = tf.keras.models.Sequential([\n",
        "    #YOUR CODE HERE#\n",
        "    # Start with convolutional layers\n",
        "    tf.keras.layers.Conv2D(filters=32, kernel_size=(3,3), activation=\"relu\", input_shape=(224, 224, 3)),\n",
        "    # Reduce image size for computation efficiency and feature enhancement\n",
        "    tf.keras.layers.MaxPooling2D(2,2),\n",
        "    tf.keras.layers.Conv2D(32, (3,3), activation=\"relu\"),\n",
        "    tf.keras.layers.MaxPooling2D(2,2),\n",
        "    tf.keras.layers.Conv2D(64, (3,3), activation=\"relu\"),\n",
        "    tf.keras.layers.MaxPooling2D(2,2),\n",
        "    tf.keras.layers.Conv2D(128, (3,3), activation=\"relu\"),\n",
        "    tf.keras.layers.MaxPooling2D(2,2),\n",
        "\n",
        "    tf.keras.layers.Flatten(),\n",
        "    tf.keras.layers.Dense(units=512, activation=\"relu\"),\n",
        "    # Prevent overfitting\n",
        "    # tf.keras.layers.Dropout(0.2),\n",
        "    tf.keras.layers.Dense(units=16, activation=\"relu\"),\n",
        "    # Prevent overfitting\n",
        "    # tf.keras.layers.Dropout(0.2),\n",
        "\n",
        "    tf.keras.layers.Dense(3, activation=\"softmax\")\n",
        "])"
      ],
      "metadata": {
        "id": "khQ7qjBTMuiq"
      },
      "execution_count": 7,
      "outputs": []
    },
    {
      "cell_type": "code",
      "source": [
        "# This will print a summary of your model when you're done!\n",
        "model.summary()"
      ],
      "metadata": {
        "colab": {
          "base_uri": "https://localhost:8080/"
        },
        "id": "sf9wPb_GMvi5",
        "outputId": "ce0c49f6-2906-4fac-e720-bffae56dfda4"
      },
      "execution_count": 8,
      "outputs": [
        {
          "output_type": "stream",
          "name": "stdout",
          "text": [
            "Model: \"sequential\"\n",
            "_________________________________________________________________\n",
            " Layer (type)                Output Shape              Param #   \n",
            "=================================================================\n",
            " conv2d (Conv2D)             (None, 222, 222, 32)      896       \n",
            "                                                                 \n",
            " max_pooling2d (MaxPooling2D  (None, 111, 111, 32)     0         \n",
            " )                                                               \n",
            "                                                                 \n",
            " conv2d_1 (Conv2D)           (None, 109, 109, 32)      9248      \n",
            "                                                                 \n",
            " max_pooling2d_1 (MaxPooling  (None, 54, 54, 32)       0         \n",
            " 2D)                                                             \n",
            "                                                                 \n",
            " conv2d_2 (Conv2D)           (None, 52, 52, 64)        18496     \n",
            "                                                                 \n",
            " max_pooling2d_2 (MaxPooling  (None, 26, 26, 64)       0         \n",
            " 2D)                                                             \n",
            "                                                                 \n",
            " conv2d_3 (Conv2D)           (None, 24, 24, 128)       73856     \n",
            "                                                                 \n",
            " max_pooling2d_3 (MaxPooling  (None, 12, 12, 128)      0         \n",
            " 2D)                                                             \n",
            "                                                                 \n",
            " flatten (Flatten)           (None, 18432)             0         \n",
            "                                                                 \n",
            " dense (Dense)               (None, 512)               9437696   \n",
            "                                                                 \n",
            " dense_1 (Dense)             (None, 16)                8208      \n",
            "                                                                 \n",
            " dense_2 (Dense)             (None, 3)                 51        \n",
            "                                                                 \n",
            "=================================================================\n",
            "Total params: 9,548,451\n",
            "Trainable params: 9,548,451\n",
            "Non-trainable params: 0\n",
            "_________________________________________________________________\n"
          ]
        }
      ]
    },
    {
      "cell_type": "code",
      "source": [
        "# Compile the model\n",
        "LOSS_FUNCTION = \"categorical_crossentropy\"\n",
        "OPTIMIZER = \"adam\"\n",
        "\n",
        "model.compile(loss=LOSS_FUNCTION,\n",
        "              optimizer=OPTIMIZER,\n",
        "              metrics= [\"accuracy\"])"
      ],
      "metadata": {
        "id": "8cJw8g0MO8Pd"
      },
      "execution_count": 9,
      "outputs": []
    },
    {
      "cell_type": "code",
      "source": [
        "NUMBER_OF_EPOCHS = 20\n",
        "\n",
        "history = model.fit(train_generator, epochs=NUMBER_OF_EPOCHS,\n",
        "          verbose=1, validation_data=validation_generator)"
      ],
      "metadata": {
        "colab": {
          "base_uri": "https://localhost:8080/"
        },
        "id": "9lZauJ6cPghT",
        "outputId": "52d6ec85-8f01-4897-b273-cbe0313adccd"
      },
      "execution_count": 10,
      "outputs": [
        {
          "output_type": "stream",
          "name": "stdout",
          "text": [
            "Epoch 1/20\n",
            "9/9 [==============================] - 21s 994ms/step - loss: 1.1441 - accuracy: 0.3433 - val_loss: 1.0921 - val_accuracy: 0.3383\n",
            "Epoch 2/20\n",
            "9/9 [==============================] - 8s 918ms/step - loss: 1.0867 - accuracy: 0.3279 - val_loss: 1.0691 - val_accuracy: 0.4662\n",
            "Epoch 3/20\n",
            "9/9 [==============================] - 8s 912ms/step - loss: 1.0614 - accuracy: 0.4352 - val_loss: 1.0254 - val_accuracy: 0.4060\n",
            "Epoch 4/20\n",
            "9/9 [==============================] - 8s 923ms/step - loss: 0.9451 - accuracy: 0.5068 - val_loss: 0.8272 - val_accuracy: 0.6090\n",
            "Epoch 5/20\n",
            "9/9 [==============================] - 8s 1s/step - loss: 1.0208 - accuracy: 0.5164 - val_loss: 0.8255 - val_accuracy: 0.6391\n",
            "Epoch 6/20\n",
            "9/9 [==============================] - 8s 917ms/step - loss: 0.8458 - accuracy: 0.6199 - val_loss: 0.7619 - val_accuracy: 0.6842\n",
            "Epoch 7/20\n",
            "9/9 [==============================] - 9s 1s/step - loss: 0.8030 - accuracy: 0.6064 - val_loss: 0.7162 - val_accuracy: 0.6617\n",
            "Epoch 8/20\n",
            "9/9 [==============================] - 8s 1s/step - loss: 0.7432 - accuracy: 0.6702 - val_loss: 0.7103 - val_accuracy: 0.6992\n",
            "Epoch 9/20\n",
            "9/9 [==============================] - 8s 918ms/step - loss: 0.7225 - accuracy: 0.6779 - val_loss: 0.6517 - val_accuracy: 0.7218\n",
            "Epoch 10/20\n",
            "9/9 [==============================] - 8s 910ms/step - loss: 0.6458 - accuracy: 0.6925 - val_loss: 0.6013 - val_accuracy: 0.7218\n",
            "Epoch 11/20\n",
            "9/9 [==============================] - 9s 935ms/step - loss: 0.6113 - accuracy: 0.7331 - val_loss: 0.5700 - val_accuracy: 0.7293\n",
            "Epoch 12/20\n",
            "9/9 [==============================] - 8s 918ms/step - loss: 0.6006 - accuracy: 0.7350 - val_loss: 0.5979 - val_accuracy: 0.7218\n",
            "Epoch 13/20\n",
            "9/9 [==============================] - 8s 914ms/step - loss: 0.5837 - accuracy: 0.7456 - val_loss: 0.6088 - val_accuracy: 0.7368\n",
            "Epoch 14/20\n",
            "9/9 [==============================] - 8s 917ms/step - loss: 0.5798 - accuracy: 0.7524 - val_loss: 0.5895 - val_accuracy: 0.7744\n",
            "Epoch 15/20\n",
            "9/9 [==============================] - 8s 904ms/step - loss: 0.6366 - accuracy: 0.7186 - val_loss: 0.7711 - val_accuracy: 0.5789\n",
            "Epoch 16/20\n",
            "9/9 [==============================] - 8s 921ms/step - loss: 0.6681 - accuracy: 0.7031 - val_loss: 0.6347 - val_accuracy: 0.7519\n",
            "Epoch 17/20\n",
            "9/9 [==============================] - 8s 920ms/step - loss: 0.6088 - accuracy: 0.7282 - val_loss: 0.5921 - val_accuracy: 0.7068\n",
            "Epoch 18/20\n",
            "9/9 [==============================] - 8s 925ms/step - loss: 0.5530 - accuracy: 0.7611 - val_loss: 0.5400 - val_accuracy: 0.7143\n",
            "Epoch 19/20\n",
            "9/9 [==============================] - 8s 920ms/step - loss: 0.5354 - accuracy: 0.7689 - val_loss: 0.5550 - val_accuracy: 0.7669\n",
            "Epoch 20/20\n",
            "9/9 [==============================] - 8s 917ms/step - loss: 0.5476 - accuracy: 0.7611 - val_loss: 0.6148 - val_accuracy: 0.7218\n"
          ]
        }
      ]
    },
    {
      "cell_type": "code",
      "source": [
        "# summarize history for accuracy\n",
        "import matplotlib.pyplot as plt"
      ],
      "metadata": {
        "id": "vD3Q5q9DQSVd"
      },
      "execution_count": 11,
      "outputs": []
    },
    {
      "cell_type": "code",
      "source": [
        "plt.plot(history.history[\"accuracy\"])\n",
        "plt.plot(history.history[\"val_accuracy\"])\n",
        "plt.title(\"Model Accuracy\")\n",
        "plt.xlabel(\"Epochs\")\n",
        "plt.ylabel(\"Accuracy\")\n",
        "plt.legend([\"train\", \"validation\"], loc=\"upper left\")\n",
        "plt.xlim([0, NUMBER_OF_EPOCHS])\n",
        "plt.ylim([0.1, 1])\n",
        "plt.show()"
      ],
      "metadata": {
        "id": "R-n9xnJ-QVB4",
        "colab": {
          "base_uri": "https://localhost:8080/",
          "height": 295
        },
        "outputId": "17824fc1-e156-4d5a-b67b-af8e9c2a664b"
      },
      "execution_count": 12,
      "outputs": [
        {
          "output_type": "display_data",
          "data": {
            "image/png": "[encoded data removed]",
            "text/plain": [
              "<Figure size 432x288 with 1 Axes>"
            ]
          },
          "metadata": {
            "needs_background": "light"
          }
        }
      ]
    }
  ]
}