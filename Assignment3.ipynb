{
  "nbformat": 4,
  "nbformat_minor": 0,
  "metadata": {
    "colab": {
      "name": "Assignment3.ipynb",
      "provenance": [],
      "authorship_tag": "ABX9TyPoKVQY9JnjVSSJv+KjuR2T",
      "include_colab_link": true
    },
    "kernelspec": {
      "name": "python3",
      "display_name": "Python 3"
    },
    "language_info": {
      "name": "python"
    }
  },
  "cells": [
    {
      "cell_type": "markdown",
      "metadata": {
        "id": "view-in-github",
        "colab_type": "text"
      },
      "source": [
        "<a href=\"https://colab.research.google.com/github/VahapML/Fundamentals-of-TinyML/blob/main/Assignment3.ipynb\" target=\"_parent\"><img src=\"https://colab.research.google.com/assets/colab-badge.svg\" alt=\"Open In Colab\"/></a>"
      ]
    },
    {
      "cell_type": "code",
      "execution_count": 1,
      "metadata": {
        "id": "m4EiYYlM3oeW"
      },
      "outputs": [],
      "source": [
        "import tensorflow as tf\n",
        "\n",
        "from tensorflow.keras import datasets, layers, models\n",
        "import matplotlib.pyplot as plt"
      ]
    },
    {
      "cell_type": "code",
      "source": [
        "(train_images, train_labels), (test_images, test_labels) = datasets.cifar10.load_data()\n",
        "\n",
        "# Normalize pixel values to be between 0 and 1\n",
        "train_images = train_images / 255.0\n",
        "test_images = test_images / 255.0"
      ],
      "metadata": {
        "colab": {
          "base_uri": "https://localhost:8080/"
        },
        "id": "V7QDRjcY3yOp",
        "outputId": "9f697a0c-7573-4dda-ce01-e2e8796eb95e"
      },
      "execution_count": 2,
      "outputs": [
        {
          "output_type": "stream",
          "name": "stdout",
          "text": [
            "Downloading data from https://www.cs.toronto.edu/~kriz/cifar-10-python.tar.gz\n",
            "170500096/170498071 [==============================] - 3s 0us/step\n",
            "170508288/170498071 [==============================] - 3s 0us/step\n"
          ]
        }
      ]
    },
    {
      "cell_type": "code",
      "source": [
        "FIRST_LAYER = layers.Conv2D(filters=32, kernel_size=(3, 3), activation=\"relu\", input_shape=train_images[0].shape) #YOUR CODE HERE#\n",
        "HIDDEN_LAYER_TYPE_1 = layers.MaxPooling2D(2, 2) #YOUR CODE HERE#\n",
        "HIDDEN_LAYER_TYPE_2 = layers.Conv2D(64, (3, 3), activation=\"relu\") #YOUR CODE HERE#\n",
        "HIDDEN_LAYER_TYPE_3 = layers.MaxPooling2D(2, 2) #YOUR CODE HERE#\n",
        "HIDDEN_LAYER_TYPE_4 = layers.Flatten() #YOUR CODE HERE#\n",
        "HIDDEN_LAYER_TYPE_5 = layers.Dense(units=32, activation=\"relu\") #YOUR CODE HERE#\n",
        "LAST_LAYER = layers.Dense(units=10, activation=\"softmax\") #YOUR CODE HERE#\n",
        "\n",
        "model = models.Sequential([\n",
        "       FIRST_LAYER,\n",
        "       HIDDEN_LAYER_TYPE_1,\n",
        "       HIDDEN_LAYER_TYPE_2,\n",
        "       HIDDEN_LAYER_TYPE_3,\n",
        "       HIDDEN_LAYER_TYPE_4,\n",
        "       layers.Flatten(),\n",
        "       HIDDEN_LAYER_TYPE_5,\n",
        "       LAST_LAYER,\n",
        "])"
      ],
      "metadata": {
        "id": "VGA31jv331d_"
      },
      "execution_count": 3,
      "outputs": []
    },
    {
      "cell_type": "code",
      "source": [
        "LOSS = \"sparse_categorical_crossentropy\" #YOUR CODE HERE#\n",
        "NUM_EPOCHS = 15 #You can change this value if you like to experiment with it to get better accuracy\n",
        "\n",
        "# Compile the model\n",
        "model.compile(optimizer='sgd',\n",
        "              loss=LOSS,\n",
        "              metrics=['accuracy'])\n",
        "\n",
        "# Fit the model\n",
        "history = model.fit(train_images, train_labels, epochs=NUM_EPOCHS, \n",
        "                    validation_data=(test_images, test_labels))\n",
        "\n",
        "# summarize history for accuracy\n",
        "plt.plot(history.history['accuracy'])\n",
        "plt.plot(history.history['val_accuracy'])\n",
        "plt.title('model accuracy')\n",
        "plt.ylabel('accuracy')\n",
        "plt.xlabel('epoch')\n",
        "plt.legend(['train', 'test'], loc='upper left')\n",
        "plt.xlim([0,NUM_EPOCHS])\n",
        "plt.ylim([0.4,1.0])\n",
        "plt.show()"
      ],
      "metadata": {
        "colab": {
          "base_uri": "https://localhost:8080/",
          "height": 805
        },
        "id": "dzKCb7-84_a2",
        "outputId": "1e7bfb62-f681-4a33-ef89-4ceb7666751f"
      },
      "execution_count": 4,
      "outputs": [
        {
          "output_type": "stream",
          "name": "stdout",
          "text": [
            "Epoch 1/15\n",
            "1563/1563 [==============================] - 28s 11ms/step - loss: 2.0476 - accuracy: 0.2482 - val_loss: 1.8336 - val_accuracy: 0.3360\n",
            "Epoch 2/15\n",
            "1563/1563 [==============================] - 14s 9ms/step - loss: 1.6807 - accuracy: 0.4007 - val_loss: 1.5623 - val_accuracy: 0.4404\n",
            "Epoch 3/15\n",
            "1563/1563 [==============================] - 11s 7ms/step - loss: 1.4681 - accuracy: 0.4747 - val_loss: 1.4870 - val_accuracy: 0.4722\n",
            "Epoch 4/15\n",
            "1563/1563 [==============================] - 11s 7ms/step - loss: 1.3473 - accuracy: 0.5228 - val_loss: 1.3213 - val_accuracy: 0.5254\n",
            "Epoch 5/15\n",
            "1563/1563 [==============================] - 11s 7ms/step - loss: 1.2557 - accuracy: 0.5586 - val_loss: 1.2365 - val_accuracy: 0.5601\n",
            "Epoch 6/15\n",
            "1563/1563 [==============================] - 11s 7ms/step - loss: 1.1836 - accuracy: 0.5873 - val_loss: 1.2269 - val_accuracy: 0.5612\n",
            "Epoch 7/15\n",
            "1563/1563 [==============================] - 10s 7ms/step - loss: 1.1256 - accuracy: 0.6102 - val_loss: 1.1528 - val_accuracy: 0.5976\n",
            "Epoch 8/15\n",
            "1563/1563 [==============================] - 11s 7ms/step - loss: 1.0744 - accuracy: 0.6262 - val_loss: 1.0915 - val_accuracy: 0.6189\n",
            "Epoch 9/15\n",
            "1563/1563 [==============================] - 11s 7ms/step - loss: 1.0347 - accuracy: 0.6419 - val_loss: 1.2239 - val_accuracy: 0.5696\n",
            "Epoch 10/15\n",
            "1563/1563 [==============================] - 14s 9ms/step - loss: 0.9978 - accuracy: 0.6551 - val_loss: 1.0439 - val_accuracy: 0.6453\n",
            "Epoch 11/15\n",
            "1563/1563 [==============================] - 17s 11ms/step - loss: 0.9648 - accuracy: 0.6662 - val_loss: 1.0271 - val_accuracy: 0.6422\n",
            "Epoch 12/15\n",
            "1563/1563 [==============================] - 15s 10ms/step - loss: 0.9321 - accuracy: 0.6771 - val_loss: 1.0087 - val_accuracy: 0.6506\n",
            "Epoch 13/15\n",
            "1563/1563 [==============================] - 11s 7ms/step - loss: 0.9051 - accuracy: 0.6895 - val_loss: 1.0279 - val_accuracy: 0.6496\n",
            "Epoch 14/15\n",
            "1563/1563 [==============================] - 11s 7ms/step - loss: 0.8786 - accuracy: 0.6960 - val_loss: 1.0075 - val_accuracy: 0.6572\n",
            "Epoch 15/15\n",
            "1563/1563 [==============================] - 11s 7ms/step - loss: 0.8560 - accuracy: 0.7055 - val_loss: 1.0638 - val_accuracy: 0.6384\n"
          ]
        },
        {
          "output_type": "display_data",
          "data": {
            "image/png": "[encoded data removed]",
            "text/plain": [
              "<Figure size 432x288 with 1 Axes>"
            ]
          },
          "metadata": {
            "needs_background": "light"
          }
        }
      ]
    },
    {
      "cell_type": "code",
      "source": [
        "OPTIMIZER = \"adam\" #YOUR CODE HERE#\n",
        "\n",
        "# Compile the model\n",
        "model.compile(optimizer=OPTIMIZER,\n",
        "              loss=LOSS,\n",
        "              metrics=['accuracy'])\n",
        "\n",
        "# Fit the model\n",
        "history = model.fit(train_images, train_labels, epochs=NUM_EPOCHS, \n",
        "                    validation_data=(test_images, test_labels))\n",
        "\n",
        "# summarize history for accuracy\n",
        "plt.plot(history.history['accuracy'])\n",
        "plt.plot(history.history['val_accuracy'])\n",
        "plt.title('model accuracy')\n",
        "plt.ylabel('accuracy')\n",
        "plt.xlabel('epoch')\n",
        "plt.legend(['train', 'test'], loc='upper left')\n",
        "plt.xlim([0,NUM_EPOCHS])\n",
        "plt.ylim([0.4,1.0])\n",
        "plt.show()"
      ],
      "metadata": {
        "colab": {
          "base_uri": "https://localhost:8080/",
          "height": 805
        },
        "id": "7h5OPoPN53PT",
        "outputId": "160498b0-22b9-43d5-b8d1-020f43906c5f"
      },
      "execution_count": 5,
      "outputs": [
        {
          "output_type": "stream",
          "name": "stdout",
          "text": [
            "Epoch 1/15\n",
            "1563/1563 [==============================] - 12s 7ms/step - loss: 0.9574 - accuracy: 0.6689 - val_loss: 0.9802 - val_accuracy: 0.6648\n",
            "Epoch 2/15\n",
            "1563/1563 [==============================] - 11s 7ms/step - loss: 0.8588 - accuracy: 0.7007 - val_loss: 1.0034 - val_accuracy: 0.6626\n",
            "Epoch 3/15\n",
            "1563/1563 [==============================] - 11s 7ms/step - loss: 0.7723 - accuracy: 0.7329 - val_loss: 0.9192 - val_accuracy: 0.6915\n",
            "Epoch 4/15\n",
            "1563/1563 [==============================] - 12s 7ms/step - loss: 0.7101 - accuracy: 0.7530 - val_loss: 0.9406 - val_accuracy: 0.6868\n",
            "Epoch 5/15\n",
            "1563/1563 [==============================] - 11s 7ms/step - loss: 0.6458 - accuracy: 0.7756 - val_loss: 0.9663 - val_accuracy: 0.6803\n",
            "Epoch 6/15\n",
            "1563/1563 [==============================] - 11s 7ms/step - loss: 0.5892 - accuracy: 0.7942 - val_loss: 0.9649 - val_accuracy: 0.6938\n",
            "Epoch 7/15\n",
            "1563/1563 [==============================] - 11s 7ms/step - loss: 0.5418 - accuracy: 0.8092 - val_loss: 0.9987 - val_accuracy: 0.6895\n",
            "Epoch 8/15\n",
            "1563/1563 [==============================] - 11s 7ms/step - loss: 0.4963 - accuracy: 0.8242 - val_loss: 1.0193 - val_accuracy: 0.6876\n",
            "Epoch 9/15\n",
            "1563/1563 [==============================] - 11s 7ms/step - loss: 0.4572 - accuracy: 0.8381 - val_loss: 1.0524 - val_accuracy: 0.6889\n",
            "Epoch 10/15\n",
            "1563/1563 [==============================] - 12s 8ms/step - loss: 0.4237 - accuracy: 0.8505 - val_loss: 1.1205 - val_accuracy: 0.6857\n",
            "Epoch 11/15\n",
            "1563/1563 [==============================] - 11s 7ms/step - loss: 0.3886 - accuracy: 0.8624 - val_loss: 1.1820 - val_accuracy: 0.6823\n",
            "Epoch 12/15\n",
            "1563/1563 [==============================] - 11s 7ms/step - loss: 0.3572 - accuracy: 0.8724 - val_loss: 1.2406 - val_accuracy: 0.6842\n",
            "Epoch 13/15\n",
            "1563/1563 [==============================] - 11s 7ms/step - loss: 0.3317 - accuracy: 0.8811 - val_loss: 1.3835 - val_accuracy: 0.6688\n",
            "Epoch 14/15\n",
            "1563/1563 [==============================] - 12s 7ms/step - loss: 0.3097 - accuracy: 0.8899 - val_loss: 1.3877 - val_accuracy: 0.6755\n",
            "Epoch 15/15\n",
            "1563/1563 [==============================] - 11s 7ms/step - loss: 0.2845 - accuracy: 0.8981 - val_loss: 1.5173 - val_accuracy: 0.6710\n"
          ]
        },
        {
          "output_type": "display_data",
          "data": {
            "image/png": "[encoded data removed]",
            "text/plain": [
              "<Figure size 432x288 with 1 Axes>"
            ]
          },
          "metadata": {
            "needs_background": "light"
          }
        }
      ]
    }
  ]
}